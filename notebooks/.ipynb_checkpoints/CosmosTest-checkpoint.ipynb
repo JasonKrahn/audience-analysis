{
 "cells": [
  {
   "cell_type": "code",
   "execution_count": 2,
   "metadata": {
    "collapsed": true
   },
   "outputs": [],
   "source": [
    "config = { \n",
    "    'ENDPOINT': 'https://aa-backend.documents.azure.com:443',\n",
    "    'MASTERKEY': 'vEMMI7bGkQmjDtenMzj4ccHodUmROzCfmHXXh9wneGFUfU8XSnaxsopZBuLQhQ0cuWe7YXirqpA5kbIWoCFiAQ==',\n",
    "    'DOCUMENTDB_DATABASE': 'aa-backend-db',\n",
    "    'DOCUMENTDB_COLLECTION': 'sessions-backend'\n",
    "};\n"
   ]
  },
  {
   "cell_type": "code",
   "execution_count": 3,
   "metadata": {
    "collapsed": true
   },
   "outputs": [],
   "source": [
    "import pydocumentdb;\n",
    "import pydocumentdb.document_client as document_client"
   ]
  },
  {
   "cell_type": "code",
   "execution_count": 12,
   "metadata": {
    "collapsed": true
   },
   "outputs": [],
   "source": [
    "options = {\n",
    "    #'offerEnableRUPerMinuteThroughput': True,\n",
    "    #'offerVersion': \"V2\",\n",
    "    'offerThroughput': 1000\n",
    "}\n"
   ]
  },
  {
   "cell_type": "code",
   "execution_count": 4,
   "metadata": {
    "collapsed": true
   },
   "outputs": [],
   "source": [
    "client = document_client.DocumentClient(config['ENDPOINT'], {'masterKey': config['MASTERKEY']})"
   ]
  },
  {
   "cell_type": "code",
   "execution_count": 8,
   "metadata": {
    "collapsed": true
   },
   "outputs": [],
   "source": [
    "db = client.GetDatabaseAccount()"
   ]
  },
  {
   "cell_type": "code",
   "execution_count": 12,
   "metadata": {},
   "outputs": [
    {
     "data": {
      "text/plain": [
       "[{'databaseAccountEndpoint': 'https://aa-backend-westeurope.documents.azure.com:443/',\n",
       "  'name': 'West Europe'}]"
      ]
     },
     "execution_count": 12,
     "metadata": {},
     "output_type": "execute_result"
    }
   ],
   "source": [
    "db.ReadableLocations"
   ]
  },
  {
   "cell_type": "code",
   "execution_count": 13,
   "metadata": {},
   "outputs": [
    {
     "data": {
      "text/plain": [
       "[{'databaseAccountEndpoint': 'https://aa-backend-westeurope.documents.azure.com:443/',\n",
       "  'name': 'West Europe'}]"
      ]
     },
     "execution_count": 13,
     "metadata": {},
     "output_type": "execute_result"
    }
   ],
   "source": [
    "db.WritableLocations"
   ]
  },
  {
   "cell_type": "code",
   "execution_count": 33,
   "metadata": {},
   "outputs": [],
   "source": [
    " databases = list(client.QueryDatabases({\n",
    "            'query': 'SELECT * FROM root r'\n",
    "        }))"
   ]
  },
  {
   "cell_type": "code",
   "execution_count": 31,
   "metadata": {},
   "outputs": [
    {
     "data": {
      "text/plain": [
       "[{'_colls': 'colls/',\n",
       "  '_etag': '\"00003a01-0000-0000-0000-59e3ccf20000\"',\n",
       "  '_rid': 'D216AA==',\n",
       "  '_self': 'dbs/D216AA==/',\n",
       "  '_ts': 1508101362,\n",
       "  '_users': 'users/',\n",
       "  'id': 'aa-backend-db'}]"
      ]
     },
     "execution_count": 31,
     "metadata": {},
     "output_type": "execute_result"
    }
   ],
   "source": [
    "databases"
   ]
  },
  {
   "cell_type": "code",
   "execution_count": 41,
   "metadata": {},
   "outputs": [],
   "source": [
    "dbs = [i for i in client.ReadDatabases()]"
   ]
  },
  {
   "cell_type": "code",
   "execution_count": 43,
   "metadata": {},
   "outputs": [
    {
     "data": {
      "text/plain": [
       "[{'_conflicts': 'conflicts/',\n",
       "  '_docs': 'docs/',\n",
       "  '_etag': '\"00000c00-0000-0000-0000-59ff63500000\"',\n",
       "  '_rid': 'D216AIDUNQA=',\n",
       "  '_self': 'dbs/D216AA==/colls/D216AIDUNQA=/',\n",
       "  '_sprocs': 'sprocs/',\n",
       "  '_triggers': 'triggers/',\n",
       "  '_ts': 1509909328,\n",
       "  '_udfs': 'udfs/',\n",
       "  'id': 'session-history',\n",
       "  'indexingPolicy': {'automatic': True,\n",
       "   'excludedPaths': [],\n",
       "   'includedPaths': [{'indexes': [{'dataType': 'Number',\n",
       "       'kind': 'Range',\n",
       "       'precision': -1},\n",
       "      {'dataType': 'String', 'kind': 'Hash', 'precision': 3}],\n",
       "     'path': '/*'}],\n",
       "   'indexingMode': 'consistent'},\n",
       "  'partitionKey': {'kind': 'Hash', 'paths': ['/session_id']}},\n",
       " {'_conflicts': 'conflicts/',\n",
       "  '_docs': 'docs/',\n",
       "  '_etag': '\"00001400-0000-0000-0000-5a0029270000\"',\n",
       "  '_rid': 'D216ALSQ5AA=',\n",
       "  '_self': 'dbs/D216AA==/colls/D216ALSQ5AA=/',\n",
       "  '_sprocs': 'sprocs/',\n",
       "  '_triggers': 'triggers/',\n",
       "  '_ts': 1509959975,\n",
       "  '_udfs': 'udfs/',\n",
       "  'defaultTtl': 3600,\n",
       "  'id': 'sessions',\n",
       "  'indexingPolicy': {'automatic': True,\n",
       "   'excludedPaths': [],\n",
       "   'includedPaths': [{'indexes': [{'dataType': 'Number',\n",
       "       'kind': 'Range',\n",
       "       'precision': -1},\n",
       "      {'dataType': 'String', 'kind': 'Hash', 'precision': 3}],\n",
       "     'path': '/*'}],\n",
       "   'indexingMode': 'consistent'},\n",
       "  'partitionKey': {'kind': 'Hash', 'paths': ['/session_id']}}]"
      ]
     },
     "execution_count": 43,
     "metadata": {},
     "output_type": "execute_result"
    }
   ],
   "source": [
    "[i for i in client.ReadCollections(dbs[0]['_self'])]"
   ]
  },
  {
   "cell_type": "code",
   "execution_count": null,
   "metadata": {
    "collapsed": true
   },
   "outputs": [],
   "source": [
    "import requests \n",
    "\n",
    "params = {\n",
    "    \"returnFaceId\": \"true\",\n",
    "    \"returnFaceLandmarks\": \"false\",\n",
    "    \"returnFaceAttributes\": \"age,gender,smile,emotion\",\n",
    "}\n",
    "\n",
    "\n",
    "\n",
    "faceapi_url = \"https://westeurope.api.cognitive.microsoft.com/face/v1.0/detect\"\n",
    "faceapi_key = \"b40cd56a48c244f4b838488c0dda6eff\"\n",
    "r = requests.post(url, params = params, headers = headers, data = request.data)"
   ]
  }
 ],
 "metadata": {
  "kernelspec": {
   "display_name": "Python 3",
   "language": "python",
   "name": "python3"
  },
  "language_info": {
   "codemirror_mode": {
    "name": "ipython",
    "version": 3
   },
   "file_extension": ".py",
   "mimetype": "text/x-python",
   "name": "python",
   "nbconvert_exporter": "python",
   "pygments_lexer": "ipython3",
   "version": "3.6.1"
  }
 },
 "nbformat": 4,
 "nbformat_minor": 2
}
