{
 "cells": [
  {
   "cell_type": "code",
   "execution_count": 1,
   "metadata": {},
   "outputs": [
    {
     "name": "stdout",
     "output_type": "stream",
     "text": [
      "Collecting maxminddb-geolite2\n",
      "  Downloading maxminddb-geolite2-2017.803.tar.gz (26.8MB)\n",
      "Collecting maxminddb (from maxminddb-geolite2)\n",
      "  Downloading maxminddb-1.3.0.tar.gz (1.4MB)\n",
      "Building wheels for collected packages: maxminddb-geolite2, maxminddb\n",
      "  Running setup.py bdist_wheel for maxminddb-geolite2: started\n",
      "  Running setup.py bdist_wheel for maxminddb-geolite2: finished with status 'done'\n",
      "  Stored in directory: C:\\Users\\anvykhod\\AppData\\Local\\pip\\Cache\\wheels\\87\\ba\\5f\\781dc52162e3f0f72b71f5e59c45337c9b590daaad5af7fd0b\n",
      "  Running setup.py bdist_wheel for maxminddb: started\n",
      "  Running setup.py bdist_wheel for maxminddb: finished with status 'done'\n",
      "  Stored in directory: C:\\Users\\anvykhod\\AppData\\Local\\pip\\Cache\\wheels\\8d\\b3\\a9\\90a6c42822ac6a4f277f73a8521af73ce878427b53c4fe7a57\n",
      "Successfully built maxminddb-geolite2 maxminddb\n",
      "Installing collected packages: maxminddb, maxminddb-geolite2\n",
      "Successfully installed maxminddb-1.3.0 maxminddb-geolite2-2017.803\n"
     ]
    }
   ],
   "source": [
    "!pip install maxminddb-geolite2"
   ]
  },
  {
   "cell_type": "code",
   "execution_count": 5,
   "metadata": {
    "collapsed": true,
    "scrolled": true
   },
   "outputs": [],
   "source": [
    "from geolite2 import geolite2\n",
    "reader = geolite2.reader()\n",
    "r = reader.get('1.1.1.1')"
   ]
  },
  {
   "cell_type": "code",
   "execution_count": 8,
   "metadata": {},
   "outputs": [
    {
     "data": {
      "text/plain": [
       "{'city': {'geoname_id': 2151718, 'names': {'en': 'Research'}},\n",
       " 'continent': {'code': 'OC',\n",
       "  'geoname_id': 6255151,\n",
       "  'names': {'de': 'Ozeanien',\n",
       "   'en': 'Oceania',\n",
       "   'es': 'Oceanía',\n",
       "   'fr': 'Océanie',\n",
       "   'ja': 'オセアニア',\n",
       "   'pt-BR': 'Oceania',\n",
       "   'ru': 'Океания',\n",
       "   'zh-CN': '大洋洲'}},\n",
       " 'country': {'geoname_id': 2077456,\n",
       "  'iso_code': 'AU',\n",
       "  'names': {'de': 'Australien',\n",
       "   'en': 'Australia',\n",
       "   'es': 'Australia',\n",
       "   'fr': 'Australie',\n",
       "   'ja': 'オーストラリア',\n",
       "   'pt-BR': 'Austrália',\n",
       "   'ru': 'Австралия',\n",
       "   'zh-CN': '澳大利亚'}},\n",
       " 'location': {'accuracy_radius': 1000,\n",
       "  'latitude': -37.7,\n",
       "  'longitude': 145.1833,\n",
       "  'time_zone': 'Australia/Melbourne'},\n",
       " 'postal': {'code': '3095'},\n",
       " 'registered_country': {'geoname_id': 2077456,\n",
       "  'iso_code': 'AU',\n",
       "  'names': {'de': 'Australien',\n",
       "   'en': 'Australia',\n",
       "   'es': 'Australia',\n",
       "   'fr': 'Australie',\n",
       "   'ja': 'オーストラリア',\n",
       "   'pt-BR': 'Austrália',\n",
       "   'ru': 'Австралия',\n",
       "   'zh-CN': '澳大利亚'}},\n",
       " 'subdivisions': [{'geoname_id': 2145234,\n",
       "   'iso_code': 'VIC',\n",
       "   'names': {'en': 'Victoria', 'pt-BR': 'Vitória', 'ru': 'Виктория'}}]}"
      ]
     },
     "execution_count": 8,
     "metadata": {},
     "output_type": "execute_result"
    }
   ],
   "source": [
    "r"
   ]
  },
  {
   "cell_type": "code",
   "execution_count": 4,
   "metadata": {},
   "outputs": [
    {
     "ename": "TypeError",
     "evalue": "'module' object is not callable",
     "output_type": "error",
     "traceback": [
      "\u001b[1;31m---------------------------------------------------------------------------\u001b[0m",
      "\u001b[1;31mTypeError\u001b[0m                                 Traceback (most recent call last)",
      "\u001b[1;32m<ipython-input-4-4be46079db00>\u001b[0m in \u001b[0;36m<module>\u001b[1;34m()\u001b[0m\n\u001b[0;32m      1\u001b[0m \u001b[1;32mfrom\u001b[0m \u001b[0murllib\u001b[0m \u001b[1;32mimport\u001b[0m \u001b[0mparse\u001b[0m\u001b[1;33m\u001b[0m\u001b[0m\n\u001b[1;32m----> 2\u001b[1;33m \u001b[0mparse\u001b[0m\u001b[1;33m(\u001b[0m\u001b[1;34m'188.230.168.167:36544'\u001b[0m\u001b[1;33m)\u001b[0m\u001b[1;33m\u001b[0m\u001b[0m\n\u001b[0m",
      "\u001b[1;31mTypeError\u001b[0m: 'module' object is not callable"
     ]
    }
   ],
   "source": [
    "from urllib import parse\n",
    "parse('188.230.168.167:36544')"
   ]
  },
  {
   "cell_type": "code",
   "execution_count": 5,
   "metadata": {
    "collapsed": true
   },
   "outputs": [],
   "source": [
    "s = '188.230.168.167:36544' \n",
    "\n",
    "if \":\" in s:\n",
    "    s.split()"
   ]
  }
 ],
 "metadata": {
  "kernelspec": {
   "display_name": "Python 3",
   "language": "python",
   "name": "python3"
  },
  "language_info": {
   "codemirror_mode": {
    "name": "ipython",
    "version": 3
   },
   "file_extension": ".py",
   "mimetype": "text/x-python",
   "name": "python",
   "nbconvert_exporter": "python",
   "pygments_lexer": "ipython3",
   "version": "3.6.1"
  }
 },
 "nbformat": 4,
 "nbformat_minor": 2
}
