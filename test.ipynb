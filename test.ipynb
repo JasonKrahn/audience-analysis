{
 "cells": [
  {
   "cell_type": "code",
   "execution_count": 39,
   "metadata": {},
   "outputs": [
    {
     "name": "stdout",
     "output_type": "stream",
     "text": [
      "The autoreload extension is already loaded. To reload it, use:\n",
      "  %reload_ext autoreload\n"
     ]
    }
   ],
   "source": [
    "%load_ext autoreload\n",
    "%autoreload 2"
   ]
  },
  {
   "cell_type": "code",
   "execution_count": 61,
   "metadata": {},
   "outputs": [],
   "source": [
    "from pypbi.core import PowerBI\n",
    "from aa_backend import util as u"
   ]
  },
  {
   "cell_type": "code",
   "execution_count": 62,
   "metadata": {
    "collapsed": true
   },
   "outputs": [],
   "source": [
    "p = PowerBI(u.get_setting(\"powerbi\", \"user_name\"),\n",
    "            u.get_setting(\"powerbi\", \"password\"),\n",
    "            u.get_setting(\"powerbi\", \"client_id\"))\n",
    "p.connect()"
   ]
  },
  {
   "cell_type": "code",
   "execution_count": 27,
   "metadata": {
    "collapsed": true
   },
   "outputs": [],
   "source": [
    "import requests\n",
    "import json"
   ]
  },
  {
   "cell_type": "code",
   "execution_count": 28,
   "metadata": {
    "collapsed": true
   },
   "outputs": [],
   "source": [
    "req = \"https://api.powerbi.com/v1.0/myorg/datasets\""
   ]
  },
  {
   "cell_type": "code",
   "execution_count": 29,
   "metadata": {},
   "outputs": [
    {
     "data": {
      "text/plain": [
       "'{\\r\\n  \"@odata.context\":\"http://wabi-uk-south-redirect.analysis.windows.net/v1.0/myorg/$metadata#datasets\",\"value\":[\\r\\n    {\\r\\n      \"id\":\"cd36e5c6-091f-4725-8930-30056b12368a\",\"name\":\"Customer Profitability Sample\",\"addRowsAPIEnabled\":false,\"configuredBy\":\"powerbimaster2@swearjarbank.onmicrosoft.com\",\"isRefreshable\":true,\"isEffectiveIdentityRequired\":false,\"isEffectiveIdentityRolesRequired\":false\\r\\n    }\\r\\n  ]\\r\\n}'"
      ]
     },
     "execution_count": 29,
     "metadata": {},
     "output_type": "execute_result"
    }
   ],
   "source": [
    "headers = {\"Authorization\": \"Bearer \" + p._aad_token}\n",
    "\n",
    "response = requests.get(req, headers=headers)\n",
    "\n",
    "response.text"
   ]
  },
  {
   "cell_type": "code",
   "execution_count": 30,
   "metadata": {},
   "outputs": [
    {
     "name": "stdout",
     "output_type": "stream",
     "text": [
      "['Workspace ID: 7a0973ee-1171-49f5-94ca-e8d739e9d36a Name: BIWorkspace', 'Workspace ID: 4e4e4bd1-e7da-4a19-abad-0fecd51e9b20 Name: AA']\n"
     ]
    }
   ],
   "source": [
    "wks = p.get_all_workspaces()\n",
    "print([str(w) for w in wks])"
   ]
  },
  {
   "cell_type": "code",
   "execution_count": 20,
   "metadata": {},
   "outputs": [
    {
     "data": {
      "text/plain": [
       "{'@odata.context': 'http://wabi-uk-south-redirect.analysis.windows.net/v1.0/myorg/$metadata#groups',\n",
       " 'value': [{'id': '7a0973ee-1171-49f5-94ca-e8d739e9d36a',\n",
       "   'isReadOnly': False,\n",
       "   'name': 'BIWorkspace'},\n",
       "  {'id': '4e4e4bd1-e7da-4a19-abad-0fecd51e9b20',\n",
       "   'isReadOnly': False,\n",
       "   'name': 'AA'}]}"
      ]
     },
     "execution_count": 20,
     "metadata": {},
     "output_type": "execute_result"
    }
   ],
   "source": [
    "req = \"https://api.powerbi.com/v1.0/myorg/groups\"\n",
    "\n",
    "headers = {\"Authorization\": \"Bearer \" + p._aad_token}\n",
    "\n",
    "response = requests.get(req, headers=headers)\n",
    "\n",
    "json.loads(response.text)"
   ]
  },
  {
   "cell_type": "code",
   "execution_count": 24,
   "metadata": {},
   "outputs": [
    {
     "data": {
      "text/plain": [
       "{'@odata.context': 'http://wabi-uk-south-redirect.analysis.windows.net/v1.0/myorg/$metadata#datasets',\n",
       " 'value': [{'addRowsAPIEnabled': False,\n",
       "   'configuredBy': 'powerbimaster2@swearjarbank.onmicrosoft.com',\n",
       "   'id': 'cd36e5c6-091f-4725-8930-30056b12368a',\n",
       "   'isEffectiveIdentityRequired': False,\n",
       "   'isEffectiveIdentityRolesRequired': False,\n",
       "   'isRefreshable': True,\n",
       "   'name': 'Customer Profitability Sample'}]}"
      ]
     },
     "execution_count": 24,
     "metadata": {},
     "output_type": "execute_result"
    }
   ],
   "source": [
    "req = \"https://api.powerbi.com/v1.0/myorg/datasets\"\n",
    "\n",
    "headers = {\"Authorization\": \"Bearer \" + p._aad_token}\n",
    "\n",
    "response = requests.get(req, headers=headers)\n",
    "\n",
    "json.loads(response.text)"
   ]
  },
  {
   "cell_type": "code",
   "execution_count": 45,
   "metadata": {},
   "outputs": [
    {
     "data": {
      "text/plain": [
       "[{'addRowsAPIEnabled': False,\n",
       "  'configuredBy': 'powerbimaster2@swearjarbank.onmicrosoft.com',\n",
       "  'id': 'cd36e5c6-091f-4725-8930-30056b12368a',\n",
       "  'isEffectiveIdentityRequired': False,\n",
       "  'isEffectiveIdentityRolesRequired': False,\n",
       "  'isRefreshable': True,\n",
       "  'name': 'Customer Profitability Sample'}]"
      ]
     },
     "execution_count": 45,
     "metadata": {},
     "output_type": "execute_result"
    }
   ],
   "source": [
    "headers = {\"Authorization\": \"Bearer \" + p._aad_token}\n",
    "\n",
    "response = requests.get(\"https://api.powerbi.com/v1.0/myorg/datasets\", headers=headers)\n",
    "json.loads(response.text)[\"value\"]"
   ]
  },
  {
   "cell_type": "code",
   "execution_count": 48,
   "metadata": {},
   "outputs": [],
   "source": [
    "from pypbi.classes import Workspace\n",
    "\n",
    "w = Workspace(p)\n",
    "\n",
    "datasets = w.get_datasets()"
   ]
  },
  {
   "cell_type": "code",
   "execution_count": 49,
   "metadata": {},
   "outputs": [
    {
     "data": {
      "text/plain": [
       "['Dataset ID: cd36e5c6-091f-4725-8930-30056b12368a Name: Customer Profitability Sample']"
      ]
     },
     "execution_count": 49,
     "metadata": {},
     "output_type": "execute_result"
    }
   ],
   "source": [
    "[str(i) for i in datasets]"
   ]
  },
  {
   "cell_type": "code",
   "execution_count": 55,
   "metadata": {},
   "outputs": [
    {
     "data": {
      "text/plain": [
       "{'@odata.context': 'http://wabi-uk-south-redirect.analysis.windows.net/v1.0/myorg/groups/4e4e4bd1-e7da-4a19-abad-0fecd51e9b20/$metadata#datasets',\n",
       " 'value': [{'addRowsAPIEnabled': False,\n",
       "   'configuredBy': 'powerbimaster2@swearjarbank.onmicrosoft.com',\n",
       "   'id': 'e6262d39-920b-4307-8d6c-37209a817413',\n",
       "   'isEffectiveIdentityRequired': False,\n",
       "   'isEffectiveIdentityRolesRequired': False,\n",
       "   'isRefreshable': True,\n",
       "   'name': 'cosmosdb_dash'},\n",
       "  {'addRowsAPIEnabled': False,\n",
       "   'configuredBy': 'powerbimaster2@swearjarbank.onmicrosoft.com',\n",
       "   'id': 'a69408d7-e1fc-4ffd-857a-37cb25f2fe81',\n",
       "   'isEffectiveIdentityRequired': False,\n",
       "   'isEffectiveIdentityRolesRequired': False,\n",
       "   'isRefreshable': False,\n",
       "   'name': 'Dashboard Usage Metrics Model'},\n",
       "  {'addRowsAPIEnabled': True,\n",
       "   'configuredBy': 'powerbimaster2@swearjarbank.onmicrosoft.com',\n",
       "   'id': '89230206-d927-4da7-9252-9efa1b03486b',\n",
       "   'isEffectiveIdentityRequired': False,\n",
       "   'isEffectiveIdentityRolesRequired': False,\n",
       "   'isRefreshable': True,\n",
       "   'name': 'dataset-audience-analysis'},\n",
       "  {'addRowsAPIEnabled': False,\n",
       "   'configuredBy': 'powerbimaster2@swearjarbank.onmicrosoft.com',\n",
       "   'id': '27cceec5-2da2-4cba-ba1a-f53b4603b376',\n",
       "   'isEffectiveIdentityRequired': False,\n",
       "   'isEffectiveIdentityRolesRequired': False,\n",
       "   'isRefreshable': True,\n",
       "   'name': 'Procurement Analysis Sample'}]}"
      ]
     },
     "execution_count": 55,
     "metadata": {},
     "output_type": "execute_result"
    }
   ],
   "source": [
    "headers = {\"Authorization\": \"Bearer \" + p._aad_token}\n",
    "\n",
    "response = requests.get(\"https://api.powerbi.com/v1.0/myorg/groups/4e4e4bd1-e7da-4a19-abad-0fecd51e9b20/datasets/\", headers=headers)\n",
    "json.loads(response.text)"
   ]
  },
  {
   "cell_type": "code",
   "execution_count": 60,
   "metadata": {},
   "outputs": [
    {
     "data": {
      "text/plain": [
       "{'error': {'code': 'ItemNotFound',\n",
       "  'message': 'Dataset e6262d39-920b-4307-8d6c-37209a817413 is not Push API dataset.'}}"
      ]
     },
     "execution_count": 60,
     "metadata": {},
     "output_type": "execute_result"
    }
   ],
   "source": [
    "headers = {\"Authorization\": \"Bearer \" + p._aad_token}\n",
    "\n",
    "response = requests.get(\"https://api.powerbi.com/v1.0/myorg/groups/4e4e4bd1-e7da-4a19-abad-0fecd51e9b20/datasets/e6262d39-920b-4307-8d6c-37209a817413/tables\", headers=headers)\n",
    "json.loads(response.text)"
   ]
  },
  {
   "cell_type": "code",
   "execution_count": 57,
   "metadata": {},
   "outputs": [
    {
     "data": {
      "text/plain": [
       "{'@odata.context': 'http://wabi-uk-south-redirect.analysis.windows.net/v1.0/myorg/groups/4e4e4bd1-e7da-4a19-abad-0fecd51e9b20/$metadata#tables',\n",
       " 'value': [{'name': 'table-audience-analysis'}]}"
      ]
     },
     "execution_count": 57,
     "metadata": {},
     "output_type": "execute_result"
    }
   ],
   "source": [
    "headers = {\"Authorization\": \"Bearer \" + p._aad_token}\n",
    "\n",
    "response = requests.get(\"https://api.powerbi.com/v1.0/myorg/groups/4e4e4bd1-e7da-4a19-abad-0fecd51e9b20/datasets/89230206-d927-4da7-9252-9efa1b03486b/tables\", headers=headers)\n",
    "json.loads(response.text)"
   ]
  },
  {
   "cell_type": "code",
   "execution_count": 66,
   "metadata": {},
   "outputs": [
    {
     "ename": "RuntimeError",
     "evalue": "Site returned error: {'error': {'code': 'ItemNotFound', 'message': 'Dataset e6262d39-920b-4307-8d6c-37209a817413 is not Push API dataset.'}}",
     "output_type": "error",
     "traceback": [
      "\u001b[1;31m---------------------------------------------------------------------------\u001b[0m",
      "\u001b[1;31mRuntimeError\u001b[0m                              Traceback (most recent call last)",
      "\u001b[1;32m<ipython-input-66-9d06756d5466>\u001b[0m in \u001b[0;36m<module>\u001b[1;34m()\u001b[0m\n\u001b[1;32m----> 1\u001b[1;33m \u001b[0mp\u001b[0m\u001b[1;33m.\u001b[0m\u001b[0mrequest\u001b[0m\u001b[1;33m(\u001b[0m\u001b[1;34m\"https://api.powerbi.com/v1.0/myorg/groups/4e4e4bd1-e7da-4a19-abad-0fecd51e9b20/datasets/e6262d39-920b-4307-8d6c-37209a817413/tables\"\u001b[0m\u001b[1;33m)\u001b[0m\u001b[1;33m\u001b[0m\u001b[0m\n\u001b[0m",
      "\u001b[1;32mC:\\10.DEV_REPOS\\audience-analysis\\pypbi\\core.py\u001b[0m in \u001b[0;36mrequest\u001b[1;34m(self, req)\u001b[0m\n\u001b[0;32m     37\u001b[0m \u001b[1;33m\u001b[0m\u001b[0m\n\u001b[0;32m     38\u001b[0m         \u001b[1;32mif\u001b[0m \u001b[1;34m\"error\"\u001b[0m \u001b[1;32min\u001b[0m \u001b[0mresp\u001b[0m\u001b[1;33m:\u001b[0m\u001b[1;33m\u001b[0m\u001b[0m\n\u001b[1;32m---> 39\u001b[1;33m             \u001b[1;32mraise\u001b[0m \u001b[0mRuntimeError\u001b[0m\u001b[1;33m(\u001b[0m\u001b[1;34m\"Site returned error: \"\u001b[0m \u001b[1;33m+\u001b[0m \u001b[0mstr\u001b[0m\u001b[1;33m(\u001b[0m\u001b[0mresp\u001b[0m\u001b[1;33m)\u001b[0m\u001b[1;33m)\u001b[0m\u001b[1;33m\u001b[0m\u001b[0m\n\u001b[0m\u001b[0;32m     40\u001b[0m         \u001b[1;32mreturn\u001b[0m \u001b[0mjson\u001b[0m\u001b[1;33m.\u001b[0m\u001b[0mloads\u001b[0m\u001b[1;33m(\u001b[0m\u001b[0mresponse\u001b[0m\u001b[1;33m.\u001b[0m\u001b[0mtext\u001b[0m\u001b[1;33m)\u001b[0m\u001b[1;33m[\u001b[0m\u001b[1;34m\"value\"\u001b[0m\u001b[1;33m]\u001b[0m\u001b[1;33m\u001b[0m\u001b[0m\n\u001b[0;32m     41\u001b[0m     \u001b[1;32mdef\u001b[0m \u001b[0mget_workspaces\u001b[0m\u001b[1;33m(\u001b[0m\u001b[0mself\u001b[0m\u001b[1;33m)\u001b[0m\u001b[1;33m:\u001b[0m\u001b[1;33m\u001b[0m\u001b[0m\n",
      "\u001b[1;31mRuntimeError\u001b[0m: Site returned error: {'error': {'code': 'ItemNotFound', 'message': 'Dataset e6262d39-920b-4307-8d6c-37209a817413 is not Push API dataset.'}}"
     ]
    }
   ],
   "source": [
    "p.request(\"https://api.powerbi.com/v1.0/myorg/groups/4e4e4bd1-e7da-4a19-abad-0fecd51e9b20/datasets/e6262d39-920b-4307-8d6c-37209a817413/tables\")"
   ]
  },
  {
   "cell_type": "code",
   "execution_count": 59,
   "metadata": {},
   "outputs": [
    {
     "data": {
      "text/plain": [
       "''"
      ]
     },
     "execution_count": 59,
     "metadata": {},
     "output_type": "execute_result"
    }
   ],
   "source": [
    "headers = {\"Authorization\": \"Bearer \" + p._aad_token}\n",
    "\n",
    "response = requests.delete(\"https://api.powerbi.com/v1.0/myorg/groups/4e4e4bd1-e7da-4a19-abad-0fecd51e9b20/datasets/89230206-d927-4da7-9252-9efa1b03486b/tables/table-audience-analysis/rows\", headers=headers)\n",
    "response.text"
   ]
  },
  {
   "cell_type": "code",
   "execution_count": 67,
   "metadata": {},
   "outputs": [
    {
     "name": "stderr",
     "output_type": "stream",
     "text": [
      "[autoreload of pypbi.classes failed: Traceback (most recent call last):\n",
      "  File \"C:\\PROGLANG\\Anaconda3\\lib\\site-packages\\IPython\\extensions\\autoreload.py\", line 247, in check\n",
      "    superreload(m, reload, self.old_objects)\n",
      "  File \"C:\\10.DEV_REPOS\\audience-analysis\\pypbi\\classes.py\", line 53\n",
      "    for t in tables:\n",
      "                   ^\n",
      "SyntaxError: invalid syntax\n",
      "]\n"
     ]
    },
    {
     "data": {
      "text/plain": [
       "<generator object PowerBI.get_workspaces at 0x0000019A3F0395C8>"
      ]
     },
     "execution_count": 67,
     "metadata": {},
     "output_type": "execute_result"
    }
   ],
   "source": [
    "p.get_workspaces()"
   ]
  }
 ],
 "metadata": {
  "kernelspec": {
   "display_name": "Python 3",
   "language": "python",
   "name": "python3"
  },
  "language_info": {
   "codemirror_mode": {
    "name": "ipython",
    "version": 3
   },
   "file_extension": ".py",
   "mimetype": "text/x-python",
   "name": "python",
   "nbconvert_exporter": "python",
   "pygments_lexer": "ipython3",
   "version": "3.6.1"
  }
 },
 "nbformat": 4,
 "nbformat_minor": 2
}
